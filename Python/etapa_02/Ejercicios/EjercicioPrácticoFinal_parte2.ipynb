{
 "cells": [
  {
   "cell_type": "markdown",
   "id": "5bb859b4",
   "metadata": {},
   "source": [
    "# Ejercicio Práctico Final - Parte 2\n",
    "### Realizar una ingesta de datos de un archivo formato .csv utilizando la librería de Pandas\n"
   ]
  },
  {
   "cell_type": "code",
   "execution_count": 40,
   "id": "b0e2d2ce",
   "metadata": {},
   "outputs": [],
   "source": [
    "import pandas as pd #Importamos la libreria de Pandas para trabajar el conjunto de datos\n",
    "\n",
    "#Creo el objeto df para importar el DataFrame con el que vamos a trabajar\n",
    "df = pd.read_csv(\"D:/Dropbox/Capacitacion/ArgentinaPrograma4/APrograma4-1/etapa_02/Material/ProyectoFinal/Datasets/SalariosDataset.csv\", sep = \",\")\n"
   ]
  },
  {
   "cell_type": "code",
   "execution_count": 41,
   "id": "d3a78f75",
   "metadata": {},
   "outputs": [
    {
     "data": {
      "text/html": [
       "<div>\n",
       "<style scoped>\n",
       "    .dataframe tbody tr th:only-of-type {\n",
       "        vertical-align: middle;\n",
       "    }\n",
       "\n",
       "    .dataframe tbody tr th {\n",
       "        vertical-align: top;\n",
       "    }\n",
       "\n",
       "    .dataframe thead th {\n",
       "        text-align: right;\n",
       "    }\n",
       "</style>\n",
       "<table border=\"1\" class=\"dataframe\">\n",
       "  <thead>\n",
       "    <tr style=\"text-align: right;\">\n",
       "      <th></th>\n",
       "      <th>Id</th>\n",
       "      <th>NombreEmpresa</th>\n",
       "      <th>TítuloTrabajo</th>\n",
       "      <th>SalariosInformados</th>\n",
       "      <th>Ubicación</th>\n",
       "      <th>Salario</th>\n",
       "    </tr>\n",
       "  </thead>\n",
       "  <tbody>\n",
       "    <tr>\n",
       "      <th>0</th>\n",
       "      <td>0</td>\n",
       "      <td>Mu Sigma</td>\n",
       "      <td>Data Scientist</td>\n",
       "      <td>105</td>\n",
       "      <td>Bangalore</td>\n",
       "      <td>648573.0</td>\n",
       "    </tr>\n",
       "    <tr>\n",
       "      <th>1</th>\n",
       "      <td>1</td>\n",
       "      <td>IBM</td>\n",
       "      <td>Data Scientist</td>\n",
       "      <td>95</td>\n",
       "      <td>Bangalore</td>\n",
       "      <td>1191950.0</td>\n",
       "    </tr>\n",
       "    <tr>\n",
       "      <th>2</th>\n",
       "      <td>2</td>\n",
       "      <td>Tata Consultancy Services</td>\n",
       "      <td>Data Scientist</td>\n",
       "      <td>66</td>\n",
       "      <td>Bangalore</td>\n",
       "      <td>836874.0</td>\n",
       "    </tr>\n",
       "    <tr>\n",
       "      <th>3</th>\n",
       "      <td>3</td>\n",
       "      <td>Impact Analytics</td>\n",
       "      <td>Data Scientist</td>\n",
       "      <td>40</td>\n",
       "      <td>Bangalore</td>\n",
       "      <td>669578.0</td>\n",
       "    </tr>\n",
       "    <tr>\n",
       "      <th>4</th>\n",
       "      <td>4</td>\n",
       "      <td>Accenture</td>\n",
       "      <td>Data Scientist</td>\n",
       "      <td>32</td>\n",
       "      <td>Bangalore</td>\n",
       "      <td>944110.0</td>\n",
       "    </tr>\n",
       "  </tbody>\n",
       "</table>\n",
       "</div>"
      ],
      "text/plain": [
       "   Id              NombreEmpresa   TítuloTrabajo   SalariosInformados  \\\n",
       "0   0                   Mu Sigma  Data Scientist                  105   \n",
       "1   1                        IBM  Data Scientist                   95   \n",
       "2   2  Tata Consultancy Services  Data Scientist                   66   \n",
       "3   3           Impact Analytics  Data Scientist                   40   \n",
       "4   4                  Accenture  Data Scientist                   32   \n",
       "\n",
       "   Ubicación    Salario  \n",
       "0  Bangalore   648573.0  \n",
       "1  Bangalore  1191950.0  \n",
       "2  Bangalore   836874.0  \n",
       "3  Bangalore   669578.0  \n",
       "4  Bangalore   944110.0  "
      ]
     },
     "execution_count": 41,
     "metadata": {},
     "output_type": "execute_result"
    }
   ],
   "source": [
    "#Imprimir las primeras filas del df\n",
    "df.head()"
   ]
  },
  {
   "cell_type": "code",
   "execution_count": 42,
   "id": "2ea2bffa",
   "metadata": {},
   "outputs": [
    {
     "data": {
      "text/html": [
       "<div>\n",
       "<style scoped>\n",
       "    .dataframe tbody tr th:only-of-type {\n",
       "        vertical-align: middle;\n",
       "    }\n",
       "\n",
       "    .dataframe tbody tr th {\n",
       "        vertical-align: top;\n",
       "    }\n",
       "\n",
       "    .dataframe thead th {\n",
       "        text-align: right;\n",
       "    }\n",
       "</style>\n",
       "<table border=\"1\" class=\"dataframe\">\n",
       "  <thead>\n",
       "    <tr style=\"text-align: right;\">\n",
       "      <th></th>\n",
       "      <th>Id</th>\n",
       "      <th>NombreEmpresa</th>\n",
       "      <th>TítuloTrabajo</th>\n",
       "      <th>SalariosInformados</th>\n",
       "      <th>Ubicación</th>\n",
       "      <th>Salario</th>\n",
       "    </tr>\n",
       "  </thead>\n",
       "  <tbody>\n",
       "    <tr>\n",
       "      <th>4334</th>\n",
       "      <td>4339</td>\n",
       "      <td>TaiyōAI</td>\n",
       "      <td>Machine Learning Scientist</td>\n",
       "      <td>1</td>\n",
       "      <td>Mumbai</td>\n",
       "      <td>62160.0</td>\n",
       "    </tr>\n",
       "    <tr>\n",
       "      <th>4335</th>\n",
       "      <td>4340</td>\n",
       "      <td>Decimal Point Analytics</td>\n",
       "      <td>Machine Learning Developer</td>\n",
       "      <td>1</td>\n",
       "      <td>Mumbai</td>\n",
       "      <td>751286.0</td>\n",
       "    </tr>\n",
       "    <tr>\n",
       "      <th>4336</th>\n",
       "      <td>4341</td>\n",
       "      <td>MyWays</td>\n",
       "      <td>Machine Learning Developer</td>\n",
       "      <td>1</td>\n",
       "      <td>Mumbai</td>\n",
       "      <td>410952.0</td>\n",
       "    </tr>\n",
       "    <tr>\n",
       "      <th>4337</th>\n",
       "      <td>4342</td>\n",
       "      <td>Market Pulse Technologies</td>\n",
       "      <td>Software Engineer - Machine Learning</td>\n",
       "      <td>1</td>\n",
       "      <td>Mumbai</td>\n",
       "      <td>1612324.0</td>\n",
       "    </tr>\n",
       "    <tr>\n",
       "      <th>4338</th>\n",
       "      <td>4343</td>\n",
       "      <td>vPhrase</td>\n",
       "      <td>Machine Learning Engineer</td>\n",
       "      <td>1</td>\n",
       "      <td>Mumbai</td>\n",
       "      <td>939843.0</td>\n",
       "    </tr>\n",
       "  </tbody>\n",
       "</table>\n",
       "</div>"
      ],
      "text/plain": [
       "        Id              NombreEmpresa                         TítuloTrabajo  \\\n",
       "4334  4339                    TaiyōAI            Machine Learning Scientist   \n",
       "4335  4340    Decimal Point Analytics            Machine Learning Developer   \n",
       "4336  4341                     MyWays            Machine Learning Developer   \n",
       "4337  4342  Market Pulse Technologies  Software Engineer - Machine Learning   \n",
       "4338  4343                    vPhrase             Machine Learning Engineer   \n",
       "\n",
       "       SalariosInformados  Ubicación    Salario  \n",
       "4334                    1     Mumbai    62160.0  \n",
       "4335                    1     Mumbai   751286.0  \n",
       "4336                    1     Mumbai   410952.0  \n",
       "4337                    1     Mumbai  1612324.0  \n",
       "4338                    1     Mumbai   939843.0  "
      ]
     },
     "execution_count": 42,
     "metadata": {},
     "output_type": "execute_result"
    }
   ],
   "source": [
    "#Imprimir las ultimas filas\n",
    "df.tail()"
   ]
  },
  {
   "cell_type": "code",
   "execution_count": 43,
   "id": "aa88550e",
   "metadata": {},
   "outputs": [
    {
     "name": "stdout",
     "output_type": "stream",
     "text": [
      "(4339, 6)\n"
     ]
    }
   ],
   "source": [
    "#Imprimir las dimensiones del dataset\n",
    "print(df.shape)"
   ]
  },
  {
   "cell_type": "code",
   "execution_count": 44,
   "id": "7abd8651",
   "metadata": {},
   "outputs": [
    {
     "data": {
      "text/plain": [
       "Id                     4339\n",
       " NombreEmpresa         4339\n",
       " TítuloTrabajo         4339\n",
       " SalariosInformados    4339\n",
       " Ubicación             4339\n",
       " Salario               4339\n",
       "dtype: int64"
      ]
     },
     "execution_count": 44,
     "metadata": {},
     "output_type": "execute_result"
    }
   ],
   "source": [
    "#Totalidad de Registros por columnas\n",
    "df.count()"
   ]
  },
  {
   "cell_type": "code",
   "execution_count": 45,
   "id": "9c1cc182",
   "metadata": {},
   "outputs": [
    {
     "data": {
      "text/plain": [
       "Id                       int64\n",
       " NombreEmpresa          object\n",
       " TítuloTrabajo          object\n",
       " SalariosInformados      int64\n",
       " Ubicación              object\n",
       " Salario               float64\n",
       "dtype: object"
      ]
     },
     "execution_count": 45,
     "metadata": {},
     "output_type": "execute_result"
    }
   ],
   "source": [
    "#Ver los tipos de dato de cada columna\n",
    "df.dtypes"
   ]
  },
  {
   "cell_type": "code",
   "execution_count": 46,
   "id": "0a498fdd",
   "metadata": {},
   "outputs": [
    {
     "name": "stdout",
     "output_type": "stream",
     "text": [
      "Index(['Id', ' NombreEmpresa', ' TítuloTrabajo', ' SalariosInformados',\n",
      "       ' Ubicación', ' Salario'],\n",
      "      dtype='object')\n"
     ]
    }
   ],
   "source": [
    "#Listado de las columnas\n",
    "print(df.columns)"
   ]
  },
  {
   "cell_type": "code",
   "execution_count": 47,
   "id": "6fe4cadd",
   "metadata": {},
   "outputs": [
    {
     "name": "stdout",
     "output_type": "stream",
     "text": [
      "(4339, 5)\n"
     ]
    },
    {
     "data": {
      "text/html": [
       "<div>\n",
       "<style scoped>\n",
       "    .dataframe tbody tr th:only-of-type {\n",
       "        vertical-align: middle;\n",
       "    }\n",
       "\n",
       "    .dataframe tbody tr th {\n",
       "        vertical-align: top;\n",
       "    }\n",
       "\n",
       "    .dataframe thead th {\n",
       "        text-align: right;\n",
       "    }\n",
       "</style>\n",
       "<table border=\"1\" class=\"dataframe\">\n",
       "  <thead>\n",
       "    <tr style=\"text-align: right;\">\n",
       "      <th></th>\n",
       "      <th>NombreEmpresa</th>\n",
       "      <th>TítuloTrabajo</th>\n",
       "      <th>SalariosInformados</th>\n",
       "      <th>Ubicación</th>\n",
       "      <th>Salario</th>\n",
       "    </tr>\n",
       "  </thead>\n",
       "  <tbody>\n",
       "    <tr>\n",
       "      <th>0</th>\n",
       "      <td>Mu Sigma</td>\n",
       "      <td>Data Scientist</td>\n",
       "      <td>105</td>\n",
       "      <td>Bangalore</td>\n",
       "      <td>648573.0</td>\n",
       "    </tr>\n",
       "    <tr>\n",
       "      <th>1</th>\n",
       "      <td>IBM</td>\n",
       "      <td>Data Scientist</td>\n",
       "      <td>95</td>\n",
       "      <td>Bangalore</td>\n",
       "      <td>1191950.0</td>\n",
       "    </tr>\n",
       "    <tr>\n",
       "      <th>2</th>\n",
       "      <td>Tata Consultancy Services</td>\n",
       "      <td>Data Scientist</td>\n",
       "      <td>66</td>\n",
       "      <td>Bangalore</td>\n",
       "      <td>836874.0</td>\n",
       "    </tr>\n",
       "    <tr>\n",
       "      <th>3</th>\n",
       "      <td>Impact Analytics</td>\n",
       "      <td>Data Scientist</td>\n",
       "      <td>40</td>\n",
       "      <td>Bangalore</td>\n",
       "      <td>669578.0</td>\n",
       "    </tr>\n",
       "    <tr>\n",
       "      <th>4</th>\n",
       "      <td>Accenture</td>\n",
       "      <td>Data Scientist</td>\n",
       "      <td>32</td>\n",
       "      <td>Bangalore</td>\n",
       "      <td>944110.0</td>\n",
       "    </tr>\n",
       "  </tbody>\n",
       "</table>\n",
       "</div>"
      ],
      "text/plain": [
       "               NombreEmpresa   TítuloTrabajo   SalariosInformados  Ubicación  \\\n",
       "0                   Mu Sigma  Data Scientist                  105  Bangalore   \n",
       "1                        IBM  Data Scientist                   95  Bangalore   \n",
       "2  Tata Consultancy Services  Data Scientist                   66  Bangalore   \n",
       "3           Impact Analytics  Data Scientist                   40  Bangalore   \n",
       "4                  Accenture  Data Scientist                   32  Bangalore   \n",
       "\n",
       "     Salario  \n",
       "0   648573.0  \n",
       "1  1191950.0  \n",
       "2   836874.0  \n",
       "3   669578.0  \n",
       "4   944110.0  "
      ]
     },
     "execution_count": 47,
     "metadata": {},
     "output_type": "execute_result"
    }
   ],
   "source": [
    "#Eliminacion de columnas del df\n",
    "df.drop(columns = ['Id'], inplace = True)\n",
    "\n",
    "#Verifico la eliminación y muestro el resultado\n",
    "print(df.shape)\n",
    "df.head()"
   ]
  },
  {
   "cell_type": "code",
   "execution_count": 48,
   "id": "abb77b6f",
   "metadata": {},
   "outputs": [
    {
     "name": "stdout",
     "output_type": "stream",
     "text": [
      " NombreEmpresa         0\n",
      " TítuloTrabajo         0\n",
      " SalariosInformados    0\n",
      " Ubicación             0\n",
      " Salario               0\n",
      "dtype: int64\n"
     ]
    }
   ],
   "source": [
    "#Determinar valores nulos por cada columna\n",
    "print(df.isna().sum())"
   ]
  },
  {
   "cell_type": "code",
   "execution_count": 49,
   "id": "ed99c310",
   "metadata": {},
   "outputs": [
    {
     "data": {
      "text/html": [
       "<div>\n",
       "<style scoped>\n",
       "    .dataframe tbody tr th:only-of-type {\n",
       "        vertical-align: middle;\n",
       "    }\n",
       "\n",
       "    .dataframe tbody tr th {\n",
       "        vertical-align: top;\n",
       "    }\n",
       "\n",
       "    .dataframe thead th {\n",
       "        text-align: right;\n",
       "    }\n",
       "</style>\n",
       "<table border=\"1\" class=\"dataframe\">\n",
       "  <thead>\n",
       "    <tr style=\"text-align: right;\">\n",
       "      <th></th>\n",
       "      <th>SalariosInformados</th>\n",
       "      <th>Salario</th>\n",
       "    </tr>\n",
       "  </thead>\n",
       "  <tbody>\n",
       "    <tr>\n",
       "      <th>count</th>\n",
       "      <td>4339.000000</td>\n",
       "      <td>4.339000e+03</td>\n",
       "    </tr>\n",
       "    <tr>\n",
       "      <th>mean</th>\n",
       "      <td>2.777138</td>\n",
       "      <td>1.119885e+06</td>\n",
       "    </tr>\n",
       "    <tr>\n",
       "      <th>std</th>\n",
       "      <td>5.148095</td>\n",
       "      <td>4.300905e+06</td>\n",
       "    </tr>\n",
       "    <tr>\n",
       "      <th>min</th>\n",
       "      <td>1.000000</td>\n",
       "      <td>1.081400e+04</td>\n",
       "    </tr>\n",
       "    <tr>\n",
       "      <th>25%</th>\n",
       "      <td>1.000000</td>\n",
       "      <td>4.199380e+05</td>\n",
       "    </tr>\n",
       "    <tr>\n",
       "      <th>50%</th>\n",
       "      <td>1.000000</td>\n",
       "      <td>7.062830e+05</td>\n",
       "    </tr>\n",
       "    <tr>\n",
       "      <th>75%</th>\n",
       "      <td>3.000000</td>\n",
       "      <td>1.196675e+06</td>\n",
       "    </tr>\n",
       "    <tr>\n",
       "      <th>max</th>\n",
       "      <td>105.000000</td>\n",
       "      <td>1.661404e+08</td>\n",
       "    </tr>\n",
       "  </tbody>\n",
       "</table>\n",
       "</div>"
      ],
      "text/plain": [
       "        SalariosInformados       Salario\n",
       "count          4339.000000  4.339000e+03\n",
       "mean              2.777138  1.119885e+06\n",
       "std               5.148095  4.300905e+06\n",
       "min               1.000000  1.081400e+04\n",
       "25%               1.000000  4.199380e+05\n",
       "50%               1.000000  7.062830e+05\n",
       "75%               3.000000  1.196675e+06\n",
       "max             105.000000  1.661404e+08"
      ]
     },
     "execution_count": 49,
     "metadata": {},
     "output_type": "execute_result"
    }
   ],
   "source": [
    "#Describe Python\n",
    "df.describe()"
   ]
  }
 ],
 "metadata": {
  "kernelspec": {
   "display_name": "Python 3 (ipykernel)",
   "language": "python",
   "name": "python3"
  },
  "language_info": {
   "codemirror_mode": {
    "name": "ipython",
    "version": 3
   },
   "file_extension": ".py",
   "mimetype": "text/x-python",
   "name": "python",
   "nbconvert_exporter": "python",
   "pygments_lexer": "ipython3",
   "version": "3.11.3"
  }
 },
 "nbformat": 4,
 "nbformat_minor": 5
}
